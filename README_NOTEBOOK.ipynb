{
 "cells": [
  {
   "cell_type": "code",
   "execution_count": 13,
   "id": "f664dbbc",
   "metadata": {},
   "outputs": [],
   "source": [
    "# ~~~~~~~~~~~~~~~~~~~~~~~~~~~~~~~~~~~~~~~~~~~~~ SEPIO.ConsoleManager ~~~~~~~~~~~~~~~~~~~~~~~~~~~~~~~~~~~"
   ]
  },
  {
   "cell_type": "code",
   "execution_count": 4,
   "id": "925b2d32",
   "metadata": {},
   "outputs": [],
   "source": [
    "from SEPModules import SEPIO"
   ]
  },
  {
   "cell_type": "code",
   "execution_count": 7,
   "id": "7a9e6356",
   "metadata": {},
   "outputs": [],
   "source": [
    "# Pretend that the arguments \"-h --verbosity 2\" were passed to script\n",
    "# for this example usage. In normal use 'sys.argv' would be automatically\n",
    "# populated when the python script was started from the command line.\n",
    "import sys\n",
    "sys.argv = [\"this_script_name\", \"-h\", \"--verbosity\", \"2\"]"
   ]
  },
  {
   "cell_type": "code",
   "execution_count": 8,
   "id": "c118fcd8",
   "metadata": {},
   "outputs": [],
   "source": [
    "# instantiate object to hold arguments passed to this script\n",
    "console_manager = SEPIO.ConsoleArguments([\"h\"], [\"help\", \"verbosity=\"])"
   ]
  },
  {
   "cell_type": "code",
   "execution_count": 9,
   "id": "19120571",
   "metadata": {},
   "outputs": [
    {
     "name": "stdout",
     "output_type": "stream",
     "text": [
      "This is a help message... very helpful information goes here\n"
     ]
    }
   ],
   "source": [
    "# print help message\n",
    "if \"h\" in console_manager or \"help\" in console_manager:\n",
    "    print(\"This is a help message... very helpful information goes here\")"
   ]
  },
  {
   "cell_type": "code",
   "execution_count": 10,
   "id": "986262f2",
   "metadata": {},
   "outputs": [],
   "source": [
    "# set a verbosity value based on what was passed after \"--verbosity\"\n",
    "verbosity = 0 # default\n",
    "if \"verbosity\" in console_manager:\n",
    "    passed_verbosity = console_manager[\"verbosity\"]\n",
    "    \n",
    "    # check if input is legal number\n",
    "    if passed_verbosity not in [\"0\", \"1\", \"2\"]:\n",
    "        print(f\"'{passed_verbosity}' is not a valid verbosity value\")\n",
    "        sys.exit(1)\n",
    "    \n",
    "    verbosity = int(passed_verbosity) # get passed value"
   ]
  },
  {
   "cell_type": "code",
   "execution_count": 11,
   "id": "7f70f96f",
   "metadata": {},
   "outputs": [
    {
     "name": "stdout",
     "output_type": "stream",
     "text": [
      "Verbosity was succesfully set to 2!\n"
     ]
    }
   ],
   "source": [
    "print(f\"Verbosity was succesfully set to {verbosity}!\")"
   ]
  },
  {
   "cell_type": "code",
   "execution_count": 1,
   "id": "79785bc4",
   "metadata": {},
   "outputs": [],
   "source": [
    "# ~~~~~~~~~~~~~~~~~~~~~~~~~~~~~~~~~~~~~~~~~~~~~ SEPAlgebra.AlgebraicStructure ~~~~~~~~~~~~~~~~~~~~~~~~~~~~~~~~~~~"
   ]
  },
  {
   "cell_type": "code",
   "execution_count": 2,
   "id": "8afd581c",
   "metadata": {},
   "outputs": [],
   "source": [
    "from SEPModules import SEPAlgebra"
   ]
  },
  {
   "cell_type": "code",
   "execution_count": 3,
   "id": "eaa8fc99",
   "metadata": {},
   "outputs": [],
   "source": [
    "# create an algebraic structure and check if it is valid, i.e. closed\n",
    "binary_and = SEPAlgebra.AlgebraicStructure({0, 1}, int.__mul__)"
   ]
  },
  {
   "cell_type": "code",
   "execution_count": 4,
   "id": "6eee6418",
   "metadata": {},
   "outputs": [
    {
     "name": "stdout",
     "output_type": "stream",
     "text": [
      "is valid: True \n",
      "bool alternative: True\n"
     ]
    }
   ],
   "source": [
    "# this is a valid structure because it is closed\n",
    "# bool(x) should amount to x.is_valid for all classes inheriting from AlgebraicStructure\n",
    "print(f\"is valid: {binary_and.is_valid()} \\nbool alternative: {bool(binary_and)}\")"
   ]
  },
  {
   "cell_type": "code",
   "execution_count": 5,
   "id": "c7b9708e",
   "metadata": {},
   "outputs": [
    {
     "name": "stdout",
     "output_type": "stream",
     "text": [
      "is commutative: [True]\n"
     ]
    }
   ],
   "source": [
    "# this structure is also commutative but since this is a general structure\n",
    "# this function will return a list of boolean values for every operator\n",
    "print(f\"is commutative: {binary_and.is_commutative()}\")"
   ]
  },
  {
   "cell_type": "code",
   "execution_count": 6,
   "id": "08aa3a26",
   "metadata": {},
   "outputs": [],
   "source": [
    "# since it is commutative we might want to model it as monoid,\n",
    "# which only takes one operator\n",
    "binary_and = SEPAlgebra.Monoid({0, 1}, int.__mul__)"
   ]
  },
  {
   "cell_type": "code",
   "execution_count": 7,
   "id": "753ee9c4",
   "metadata": {},
   "outputs": [
    {
     "name": "stdout",
     "output_type": "stream",
     "text": [
      "is commutative monoid: True\n"
     ]
    }
   ],
   "source": [
    "# this structure is still commutative but now the return value is simply one boolean\n",
    "print(f\"is commutative monoid: {binary_and.is_commutative()}\")"
   ]
  },
  {
   "cell_type": "code",
   "execution_count": 8,
   "id": "3b031504",
   "metadata": {},
   "outputs": [
    {
     "name": "stdout",
     "output_type": "stream",
     "text": [
      "is a valid monoid: True\n"
     ]
    }
   ],
   "source": [
    "# since a monoid needs to be a valid algebraic structure and commutative,\n",
    "# we can also check if it is valid and expect this to be true\n",
    "print(f\"is a valid monoid: {binary_and.is_valid()}\")"
   ]
  },
  {
   "cell_type": "code",
   "execution_count": 11,
   "id": "e956e4a2",
   "metadata": {},
   "outputs": [
    {
     "name": "stdout",
     "output_type": "stream",
     "text": [
      "inverse for 0: NoElement\n"
     ]
    }
   ],
   "source": [
    "# but 0 does not have an inverse in this structure so\n",
    "# the singleton 'NoElement' will be returned\n",
    "print(f\"inverse for 0: {binary_and.find_inverses(0)}\")"
   ]
  },
  {
   "cell_type": "code",
   "execution_count": null,
   "id": "950b890a",
   "metadata": {},
   "outputs": [],
   "source": []
  }
 ],
 "metadata": {
  "celltoolbar": "Raw Cell Format",
  "kernelspec": {
   "display_name": "Python 3",
   "language": "python",
   "name": "python3"
  },
  "language_info": {
   "codemirror_mode": {
    "name": "ipython",
    "version": 3
   },
   "file_extension": ".py",
   "mimetype": "text/x-python",
   "name": "python",
   "nbconvert_exporter": "python",
   "pygments_lexer": "ipython3",
   "version": "3.8.5"
  }
 },
 "nbformat": 4,
 "nbformat_minor": 5
}
